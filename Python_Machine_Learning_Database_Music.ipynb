{
  "nbformat": 4,
  "nbformat_minor": 0,
  "metadata": {
    "colab": {
      "provenance": [],
      "authorship_tag": "ABX9TyMrmSiyzHcOvfQHb7bXKbZS",
      "include_colab_link": true
    },
    "kernelspec": {
      "name": "python3",
      "display_name": "Python 3"
    },
    "language_info": {
      "name": "python"
    }
  },
  "cells": [
    {
      "cell_type": "markdown",
      "metadata": {
        "id": "view-in-github",
        "colab_type": "text"
      },
      "source": [
        "<a href=\"https://colab.research.google.com/github/juliaNogueiraC/Python-Machine-Learning---Database-Music/blob/main/Python_Machine_Learning_Database_Music.ipynb\" target=\"_parent\"><img src=\"https://colab.research.google.com/assets/colab-badge.svg\" alt=\"Open In Colab\"/></a>"
      ]
    },
    {
      "cell_type": "markdown",
      "source": [
        "# Import Data"
      ],
      "metadata": {
        "id": "YY9lgs-Z2L-j"
      }
    },
    {
      "cell_type": "code",
      "execution_count": 3,
      "metadata": {
        "colab": {
          "base_uri": "https://localhost:8080/"
        },
        "id": "vS6_zsD-0M-Q",
        "outputId": "64285264-93ef-4db1-b769-fbad8e4568dd"
      },
      "outputs": [
        {
          "output_type": "stream",
          "name": "stdout",
          "text": [
            "    age  gender      genre\n",
            "0    20       1     HipHop\n",
            "1    23       1     HipHop\n",
            "2    25       1     HipHop\n",
            "3    26       1       Jazz\n",
            "4    29       1       Jazz\n",
            "5    30       1       Jazz\n",
            "6    31       1  Classical\n",
            "7    33       1  Classical\n",
            "8    37       1  Classical\n",
            "9    20       0      Dance\n",
            "10   21       0      Dance\n",
            "11   25       0      Dance\n",
            "12   26       0   Acoustic\n",
            "13   27       0   Acoustic\n",
            "14   30       0   Acoustic\n",
            "15   31       0  Classical\n",
            "16   34       0  Classical\n",
            "17   35       0  Classical\n"
          ]
        }
      ],
      "source": [
        "import pandas as pd\n",
        "from sklearn.tree import DecisionTreeClassifier\n",
        "from sklearn.model_selection import train_test_split\n",
        "from sklearn.metrics import accuracy_score\n",
        "\n",
        "music_data = pd.read_csv('music.csv')\n",
        "print(music_data)"
      ]
    },
    {
      "cell_type": "markdown",
      "source": [
        "# Predicting"
      ],
      "metadata": {
        "id": "1Ra0VOcN1ybt"
      }
    },
    {
      "cell_type": "code",
      "source": [
        "x = music_data.drop(columns=['genre'])\n",
        "y = music_data['genre']\n",
        "print(y)"
      ],
      "metadata": {
        "colab": {
          "base_uri": "https://localhost:8080/"
        },
        "id": "RoI41hmg0qZg",
        "outputId": "b9bc17b2-572d-4c81-ca4b-a95071fefc9b"
      },
      "execution_count": 23,
      "outputs": [
        {
          "output_type": "stream",
          "name": "stdout",
          "text": [
            "0        HipHop\n",
            "1        HipHop\n",
            "2        HipHop\n",
            "3          Jazz\n",
            "4          Jazz\n",
            "5          Jazz\n",
            "6     Classical\n",
            "7     Classical\n",
            "8     Classical\n",
            "9         Dance\n",
            "10        Dance\n",
            "11        Dance\n",
            "12     Acoustic\n",
            "13     Acoustic\n",
            "14     Acoustic\n",
            "15    Classical\n",
            "16    Classical\n",
            "17    Classical\n",
            "Name: genre, dtype: object\n"
          ]
        }
      ]
    },
    {
      "cell_type": "code",
      "source": [
        "import pandas as pd\n",
        "from sklearn.tree import DecisionTreeClassifier\n",
        "from sklearn.model_selection import train_test_split\n",
        "from sklearn.metrics import accuracy_score\n",
        "\n",
        "x = music_data.drop(columns=['genre'])\n",
        "y = music_data['genre']\n",
        "\n",
        "model = DecisionTreeClassifier()\n",
        "model.fit(x, y)\n",
        "predictions = model.predict([[21, 1], [22, 0]])\n",
        "print(predictions)"
      ],
      "metadata": {
        "colab": {
          "base_uri": "https://localhost:8080/"
        },
        "id": "3cjEijYN1JPP",
        "outputId": "bbfcc460-e69c-4b09-c444-3892c318e6de"
      },
      "execution_count": 24,
      "outputs": [
        {
          "output_type": "stream",
          "name": "stdout",
          "text": [
            "['HipHop' 'Dance']\n"
          ]
        },
        {
          "output_type": "stream",
          "name": "stderr",
          "text": [
            "/usr/local/lib/python3.10/dist-packages/sklearn/base.py:439: UserWarning: X does not have valid feature names, but DecisionTreeClassifier was fitted with feature names\n",
            "  warnings.warn(\n"
          ]
        }
      ]
    },
    {
      "cell_type": "code",
      "execution_count": 25,
      "metadata": {
        "colab": {
          "base_uri": "https://localhost:8080/"
        },
        "outputId": "ab5153d8-b6a4-4db0-9679-62af2ce6c1c9",
        "id": "HwuA3OW7pzkr"
      },
      "outputs": [
        {
          "output_type": "stream",
          "name": "stdout",
          "text": [
            "    age  gender      genre\n",
            "0    20       1     HipHop\n",
            "1    23       1     HipHop\n",
            "2    25       1     HipHop\n",
            "3    26       1       Jazz\n",
            "4    29       1       Jazz\n",
            "5    30       1       Jazz\n",
            "6    31       1  Classical\n",
            "7    33       1  Classical\n",
            "8    37       1  Classical\n",
            "9    20       0      Dance\n",
            "10   21       0      Dance\n",
            "11   25       0      Dance\n",
            "12   26       0   Acoustic\n",
            "13   27       0   Acoustic\n",
            "14   30       0   Acoustic\n",
            "15   31       0  Classical\n",
            "16   34       0  Classical\n",
            "17   35       0  Classical\n"
          ]
        }
      ],
      "source": [
        "import pandas as pd\n",
        "from sklearn.tree import DecisionTreeClassifier\n",
        "from sklearn.model_selection import train_test_split\n",
        "from sklearn.metrics import accuracy_score\n",
        "\n",
        "music_data = pd.read_csv('music.csv')\n",
        "print(music_data)"
      ]
    },
    {
      "cell_type": "markdown",
      "source": [
        "# Calculating the Accuracy"
      ],
      "metadata": {
        "id": "58UZT-x114lr"
      }
    },
    {
      "cell_type": "code",
      "source": [
        "import pandas as pd\n",
        "from sklearn.tree import DecisionTreeClassifier\n",
        "from sklearn.model_selection import train_test_split\n",
        "from sklearn.metrics import accuracy_score\n",
        "\n",
        "music_data = pd.read_csv('music.csv')\n",
        "\n",
        "x = music_data.drop(columns=['genre'])\n",
        "y = music_data['genre']\n",
        "\n",
        "x_train, x_test, y_train, y_test = train_test_split(x, y, test_size=0.2)\n",
        "\n",
        "model = DecisionTreeClassifier()\n",
        "model.fit(x_train, y_train)\n",
        "predictions = model.predict(x_test)\n",
        "\n",
        "print(accuracy_score(y_test, predictions))\n"
      ],
      "metadata": {
        "colab": {
          "base_uri": "https://localhost:8080/"
        },
        "id": "EjbhttoVpMQ2",
        "outputId": "e8e64315-6eb9-4a56-8d2d-6a174cbe27e9"
      },
      "execution_count": 12,
      "outputs": [
        {
          "output_type": "stream",
          "name": "stdout",
          "text": [
            "1.0\n"
          ]
        }
      ]
    },
    {
      "cell_type": "markdown",
      "source": [
        "### codigos não utilizados, porém salvos para consulta"
      ],
      "metadata": {
        "id": "6zYi9i7XtQ0m"
      }
    },
    {
      "cell_type": "code",
      "source": [
        "# esse é o modelo que deu erro\n",
        "import pandas as pd\n",
        "from sklearn.tree import DecisionTreeClassifier\n",
        "from sklearn.model_selection import train_test_split\n",
        "from sklearn.metrics import accuracy_score\n",
        "\n",
        "music_data = pd.read_csv('music.csv')\n",
        "\n",
        "x = music_data.drop(columns=['genre'])\n",
        "y = music_data['genre']\n",
        "\n",
        "x_train, x_test, y_train, y_test = train_test_split(x, y, test_size=0.2)\n",
        "\n",
        "model = DecisionTreeClassifier()\n",
        "model.fit(x_train, y_train)\n",
        "\n",
        "# Adicionando as novas entradas aos dados de teste\n",
        "new_inputs = pd.DataFrame({'age': [21, 22], 'gender': [1, 0]})\n",
        "x_test_with_new_inputs = pd.concat([x_test, new_inputs], ignore_index=True)\n",
        "\n",
        "# Prevendo os rótulos para os novos inputs\n",
        "predictions = model.predict(x_test_with_new_inputs)\n",
        "\n",
        "# Calculando a precisão\n",
        "score = accuracy_score(y_test.append(pd.Series(['alternative', 'alternative'])), predictions)\n",
        "print(score)\n"
      ],
      "metadata": {
        "colab": {
          "base_uri": "https://localhost:8080/"
        },
        "id": "hjIFwAoO1-WO",
        "outputId": "e6d6f3e7-9745-4cf9-f824-84ad3f6eec49"
      },
      "execution_count": null,
      "outputs": [
        {
          "output_type": "stream",
          "name": "stdout",
          "text": [
            "0.5\n"
          ]
        },
        {
          "output_type": "stream",
          "name": "stderr",
          "text": [
            "<ipython-input-16-47d75387b474>:24: FutureWarning: The series.append method is deprecated and will be removed from pandas in a future version. Use pandas.concat instead.\n",
            "  score = accuracy_score(y_test.append(pd.Series(['alternative', 'alternative'])), predictions)\n"
          ]
        }
      ]
    },
    {
      "cell_type": "markdown",
      "source": [],
      "metadata": {
        "id": "tCG_2DJX2J5S"
      }
    },
    {
      "cell_type": "code",
      "source": [
        "# codigo nao utilizado\n",
        "import pandas as pd\n",
        "from sklearn.tree import DecisionTreeClassifier\n",
        "from sklearn.model_selection import train_test_split\n",
        "from sklearn.metrics import accuracy_score\n",
        "\n",
        "music_data = pd.read_csv('music.csv')\n",
        "\n",
        "x = music_data.drop(columns=['genre'])\n",
        "y = music_data['genre']\n",
        "\n",
        "x_train, x_test, y_train, y_test = train_test_split(x, y, test_size=0.8)  # Alteração aqui\n",
        "\n",
        "model = DecisionTreeClassifier()\n",
        "model.fit(x_train, y_train)\n",
        "\n",
        "# Adicionando as novas entradas aos dados de teste\n",
        "new_inputs = pd.DataFrame({'age': [21, 22], 'gender': [1, 0]})\n",
        "x_test_with_new_inputs = pd.concat([x_test, new_inputs], ignore_index=True)\n",
        "\n",
        "# Prevendo os rótulos para os novos inputs\n",
        "predictions = model.predict(x_test_with_new_inputs)\n",
        "\n",
        "# Calculando a precisão\n",
        "score = accuracy_score(y_test.append(pd.Series(['alternative', 'alternative'])), predictions)\n",
        "print(score)\n"
      ],
      "metadata": {
        "colab": {
          "base_uri": "https://localhost:8080/"
        },
        "id": "Q99O6RNr5ohZ",
        "outputId": "56241aea-d125-497c-edf6-f81d5f598d47"
      },
      "execution_count": null,
      "outputs": [
        {
          "output_type": "stream",
          "name": "stdout",
          "text": [
            "0.35294117647058826\n"
          ]
        },
        {
          "output_type": "stream",
          "name": "stderr",
          "text": [
            "<ipython-input-19-2575fda8aa6f>:24: FutureWarning: The series.append method is deprecated and will be removed from pandas in a future version. Use pandas.concat instead.\n",
            "  score = accuracy_score(y_test.append(pd.Series(['alternative', 'alternative'])), predictions)\n"
          ]
        }
      ]
    },
    {
      "cell_type": "markdown",
      "source": [
        "# Persisting Models"
      ],
      "metadata": {
        "id": "oPaxk4NL52i_"
      }
    },
    {
      "cell_type": "code",
      "source": [
        "!pip install joblib"
      ],
      "metadata": {
        "colab": {
          "base_uri": "https://localhost:8080/"
        },
        "id": "Bv_3Wdmg6_Mq",
        "outputId": "2c7f4a6a-341c-4ac4-d584-dbfb54acb5d1"
      },
      "execution_count": null,
      "outputs": [
        {
          "output_type": "stream",
          "name": "stdout",
          "text": [
            "Requirement already satisfied: joblib in /usr/local/lib/python3.10/dist-packages (1.3.2)\n"
          ]
        }
      ]
    },
    {
      "cell_type": "code",
      "source": [
        "import pandas as pd\n",
        "from sklearn.tree import DecisionTreeClassifier\n",
        "import joblib\n",
        "\n",
        "music_data = pd.read_csv('music.csv')\n",
        "\n",
        "x = music_data.drop(columns=['genre'])\n",
        "y = music_data['genre']\n",
        "\n",
        "\n",
        "model = DecisionTreeClassifier()\n",
        "model.fit(x, y)\n",
        "\n",
        "joblib.dump(model, 'music-recommender.joblib')\n",
        "\n",
        "\n",
        "#predictions = model.predict([[21, 1]])\n",
        "#print(predictions)\n",
        "\n"
      ],
      "metadata": {
        "colab": {
          "base_uri": "https://localhost:8080/"
        },
        "id": "pS1-AePmtzoj",
        "outputId": "b7f9ac35-c763-4338-ed4e-90344bafbac9"
      },
      "execution_count": 18,
      "outputs": [
        {
          "output_type": "execute_result",
          "data": {
            "text/plain": [
              "['music-recommender.joblib']"
            ]
          },
          "metadata": {},
          "execution_count": 18
        }
      ]
    },
    {
      "cell_type": "code",
      "source": [
        "import pandas as pd\n",
        "from sklearn.tree import DecisionTreeClassifier\n",
        "import joblib\n",
        "\n",
        "model = joblib.load('music-recommender.joblib')\n",
        "predictions = model.predict([[21, 1]])\n",
        "print(predictions)\n",
        "\n"
      ],
      "metadata": {
        "colab": {
          "base_uri": "https://localhost:8080/"
        },
        "outputId": "22e3eeef-e94e-45ce-a95d-e368a0fb5577",
        "id": "1Fj6fwNVwN_9"
      },
      "execution_count": 20,
      "outputs": [
        {
          "output_type": "stream",
          "name": "stdout",
          "text": [
            "['HipHop']\n"
          ]
        },
        {
          "output_type": "stream",
          "name": "stderr",
          "text": [
            "/usr/local/lib/python3.10/dist-packages/sklearn/base.py:439: UserWarning: X does not have valid feature names, but DecisionTreeClassifier was fitted with feature names\n",
            "  warnings.warn(\n"
          ]
        }
      ]
    },
    {
      "cell_type": "markdown",
      "source": [
        "### codigos não utilizados, porém salvos para consulta"
      ],
      "metadata": {
        "id": "oHuuATKSt3uK"
      }
    },
    {
      "cell_type": "code",
      "source": [
        "import pandas as pd\n",
        "from sklearn.tree import DecisionTreeClassifier\n",
        "from sklearn.model_selection import train_test_split\n",
        "from sklearn.metrics import accuracy_score\n",
        "from sklearn.model_selection import train_test_split\n",
        "from sklearn.metrics import accuracy_score\n",
        "import joblib\n",
        "\n",
        "\n",
        "try:\n",
        "    # Carregando o modelo salvo\n",
        "    joblib.dump(modelo, 'music-recommender.joblib')\n",
        "    model = joblib.load('music-recommender.joblib')\n",
        "\n",
        "    # Agora você pode fazer previsões com o modelo carregado da seguinte forma:\n",
        "    predictions = model.predict([[21, 1]])  # Certifique-se de passar os dados em uma lista aninhada\n",
        "    print(predictions)\n",
        "\n",
        "except Exception as e:\n",
        "    print(\"Ocorreu um erro:\", e)\n",
        "\n"
      ],
      "metadata": {
        "colab": {
          "base_uri": "https://localhost:8080/"
        },
        "id": "UhWpQc9u55d-",
        "outputId": "a996d164-285b-4adf-c969-c0e2a2b55c11"
      },
      "execution_count": null,
      "outputs": [
        {
          "output_type": "stream",
          "name": "stdout",
          "text": [
            "Ocorreu um erro: name 'modelo' is not defined\n"
          ]
        }
      ]
    },
    {
      "cell_type": "markdown",
      "source": [
        "# Visualizing a Decision Tree"
      ],
      "metadata": {
        "id": "uMwrW8W1wuma"
      }
    },
    {
      "cell_type": "code",
      "source": [
        "import pandas as pd\n",
        "from sklearn.tree import DecisionTreeClassifier\n",
        "from sklearn import tree\n",
        "\n",
        "music_data = pd.read_csv('music.csv')\n",
        "\n",
        "x = music_data.drop(columns=['genre'])\n",
        "y = music_data['genre']\n",
        "\n",
        "\n",
        "model = DecisionTreeClassifier()\n",
        "model.fit(x, y)\n",
        "\n",
        "tree.export_graphviz(model, out_file='music-recommender.dot',\n",
        "                     feature_names=['age', 'gender'],\n",
        "                     class_names=sorted(y.unique()),\n",
        "                     label='all',\n",
        "                     rounded=True,\n",
        "                     filled=True)\n"
      ],
      "metadata": {
        "id": "Jh1uR-iKw7BD"
      },
      "execution_count": 21,
      "outputs": []
    }
  ]
}